{
 "cells": [
  {
   "cell_type": "markdown",
   "metadata": {},
   "source": [
    "file nay dung de doc file tdump (toan bo attrs) và ghi file ket qua ra file excel"
   ]
  },
  {
   "cell_type": "code",
   "execution_count": 1,
   "metadata": {},
   "outputs": [],
   "source": [
    "from units.read import read_data_from_file_like, select_desired_columns\n",
    "from units.processing import create_datetime_column, create_geodataframe,\\\n",
    "      gdf_lines_and_stats_by_height, split_geodataframe_by_height_code, fill_and_interpolate_gdf\n",
    "from units.write import write_output, write_output_gdf\n",
    "import os\n",
    "import warnings\n",
    "warnings.filterwarnings(\"ignore\")  # Tắt tất cả các cảnh báo\n",
    "import pandas as pd\n",
    "from tqdm import tqdm"
   ]
  },
  {
   "cell_type": "code",
   "execution_count": 2,
   "metadata": {},
   "outputs": [],
   "source": [
    "folder = 'O:/Tran Xuan Thuy/iWAT/hysplit/output_hysplit_25_3_2025'\n",
    "files = os.listdir(folder)"
   ]
  },
  {
   "cell_type": "code",
   "execution_count": 3,
   "metadata": {},
   "outputs": [
    {
     "data": {
      "text/plain": [
       "2316"
      ]
     },
     "execution_count": 3,
     "metadata": {},
     "output_type": "execute_result"
    }
   ],
   "source": [
    "len(files)"
   ]
  },
  {
   "cell_type": "code",
   "execution_count": 4,
   "metadata": {},
   "outputs": [],
   "source": [
    "column_names = [\n",
    "    'height_code',\n",
    "    'tmp1',\n",
    "    'year',\n",
    "    'month',\n",
    "    'day',\n",
    "    'hour',\n",
    "    'tmp2',\n",
    "    'tmp3',\n",
    "    'time_step',\n",
    "    'n',\n",
    "    'e',\n",
    "    'height',\n",
    "    'pressure',\n",
    "    'theta',\n",
    "    'air_temp',\n",
    "    'rainfall',\n",
    "    'mixdepth',\n",
    "    'relhumid',\n",
    "    'spchumid',\n",
    "    'h2omixra',\n",
    "    'terr_msl',\n",
    "    'sun_flux'\n",
    "]\n",
    "desired_cols = [\n",
    "    'height_code',\n",
    "    'datetime',\n",
    "    'time_step',\n",
    "    'n',\n",
    "    'e',\n",
    "    'height',\n",
    "    'pressure',\n",
    "    'theta',\n",
    "    'air_temp',\n",
    "    'rainfall',\n",
    "    'mixdepth',\n",
    "    'relhumid',\n",
    "    'spchumid',\n",
    "    'h2omixra',\n",
    "    'terr_msl',\n",
    "    'sun_flux'\n",
    "]"
   ]
  },
  {
   "cell_type": "code",
   "execution_count": 5,
   "metadata": {},
   "outputs": [
    {
     "name": "stderr",
     "output_type": "stream",
     "text": [
      "  0%|          | 0/2316 [00:00<?, ?it/s]"
     ]
    },
    {
     "name": "stderr",
     "output_type": "stream",
     "text": [
      "100%|██████████| 2316/2316 [05:39<00:00,  6.83it/s]\n"
     ]
    }
   ],
   "source": [
    "for file in tqdm(files):\n",
    "    try:\n",
    "        # --- Example Usage ---\n",
    "        hour = int(file[-2:])\n",
    "        day = int(file[-4:-2])\n",
    "        month = int(file[-6:-4])\n",
    "        year = 2000 + int(file[-8:-6])\n",
    "        file_path = os.path.join(folder, file)\n",
    "        # 1. Reading from a file:\n",
    "        with open(file_path, \"r\") as file:\n",
    "            df = read_data_from_file_like(file, columns_name=column_names)\n",
    "        # 2. create datetime column\n",
    "        df = create_datetime_column(df)\n",
    "        # 3. Selecting desired columns:\n",
    "        df = select_desired_columns(df, desired_cols)\n",
    "        # 4. convert to geodataframe -  no geometry needed\n",
    "        gdf = create_geodataframe(df)\n",
    "        # 5.1 create lines and stats by height - not calculate mean or sum camulate\n",
    "        # gdf = gdf_lines_and_stats_by_height(gdf)\n",
    "        # 5.2 split to 3df by height_code\n",
    "        gdf1, gdf2, gdf3 = split_geodataframe_by_height_code(gdf)\n",
    "        # interpolate\n",
    "        value_cols = ['height', 'pressure', 'theta', 'air_temp', 'rainfall', \\\n",
    "                    'mixdepth', 'relhumid', 'spchumid', 'h2omixra', 'terr_msl', 'sun_flux']\n",
    "        if gdf1.shape[0] < 241:\n",
    "            gdf1 = fill_and_interpolate_gdf(gdf1, value_cols)\n",
    "        if gdf2.shape[0] < 241:\n",
    "            gdf2 = fill_and_interpolate_gdf(gdf2, value_cols)\n",
    "        if gdf3.shape[0] < 241:\n",
    "            gdf3 = fill_and_interpolate_gdf(gdf3, value_cols)\n",
    "        # # 6 write to file\n",
    "        file = 'tdump_14060100'\n",
    "        hh = file[-2:]\n",
    "        dd = file[-4:-2]\n",
    "        mm = file[-6:-4]\n",
    "        yy = 2000 + int(file[-8:-6])\n",
    "        write_output_gdf(year, month, day, hour, gdf1, gdf2, gdf3,\n",
    "                         folder_path='O:/Tran Xuan Thuy/iWAT/hysplit/processed_geojson_3103')\n",
    "    except:\n",
    "        print('error: {}'.format(file))\n",
    "        continue"
   ]
  }
 ],
 "metadata": {
  "kernelspec": {
   "display_name": "Python 3",
   "language": "python",
   "name": "python3"
  },
  "language_info": {
   "codemirror_mode": {
    "name": "ipython",
    "version": 3
   },
   "file_extension": ".py",
   "mimetype": "text/x-python",
   "name": "python",
   "nbconvert_exporter": "python",
   "pygments_lexer": "ipython3",
   "version": "3.12.5"
  }
 },
 "nbformat": 4,
 "nbformat_minor": 2
}
