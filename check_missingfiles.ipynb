{
 "cells": [
  {
   "cell_type": "code",
   "execution_count": 3,
   "metadata": {},
   "outputs": [],
   "source": [
    "import os\n",
    "from datetime import datetime, timedelta\n",
    "\n",
    "def check_missing_and_unexpected_files(output_folder):\n",
    "    start_date = datetime(2014, 6, 1)\n",
    "    end_date = datetime(2015, 12, 31)\n",
    "    hours = ['00', '06', '12', '18']\n",
    "    levels = ['1', '2', '3']\n",
    "\n",
    "    expected_files = []\n",
    "    date = start_date\n",
    "    while date <= end_date:\n",
    "        for hour in hours:\n",
    "            for level in levels:\n",
    "                filename = f\"{date.strftime('%Y-%m-%d')}_{hour}_{level}.geojson\"\n",
    "                expected_files.append(filename)\n",
    "        date += timedelta(days=1)\n",
    "\n",
    "    # Danh sách file thực tế\n",
    "    actual_files = set(os.listdir(output_folder))\n",
    "    expected_files_set = set(expected_files)\n",
    "\n",
    "    missing_files = [f for f in expected_files if f not in actual_files]\n",
    "    unexpected_files = [f for f in actual_files if f not in expected_files_set]\n",
    "\n",
    "    print(f\"Expected:    {len(expected_files)} files\")\n",
    "    print(f\"Found:       {len(actual_files)} files\")\n",
    "    print(f\"Missing:     {len(missing_files)} files\")\n",
    "    print(f\"Unexpected:  {len(unexpected_files)} files\")\n",
    "\n",
    "    if missing_files:\n",
    "        print(\"\\nMissing files:\")\n",
    "        for f in missing_files:\n",
    "            print(f)\n",
    "\n",
    "    if unexpected_files:\n",
    "        print(\"\\nUnexpected files:\")\n",
    "        for f in unexpected_files:\n",
    "            print(f)\n",
    "\n",
    "    return missing_files, unexpected_files\n"
   ]
  },
  {
   "cell_type": "code",
   "execution_count": 4,
   "metadata": {},
   "outputs": [
    {
     "name": "stdout",
     "output_type": "stream",
     "text": [
      "Expected:    6948 files\n",
      "Found:       6946 files\n",
      "Missing:     18 files\n",
      "Unexpected:  16 files\n",
      "\n",
      "Missing files:\n",
      "2014-11-01_00_1.geojson\n",
      "2014-11-01_00_2.geojson\n",
      "2014-11-01_00_3.geojson\n",
      "2015-01-01_00_1.geojson\n",
      "2015-01-01_00_2.geojson\n",
      "2015-01-01_00_3.geojson\n",
      "2015-03-01_00_1.geojson\n",
      "2015-03-01_00_2.geojson\n",
      "2015-03-01_00_3.geojson\n",
      "2015-05-01_00_1.geojson\n",
      "2015-05-01_00_2.geojson\n",
      "2015-05-01_00_3.geojson\n",
      "2015-07-01_00_1.geojson\n",
      "2015-07-01_00_2.geojson\n",
      "2015-07-01_00_3.geojson\n",
      "2015-11-01_00_1.geojson\n",
      "2015-11-01_00_2.geojson\n",
      "2015-11-01_00_3.geojson\n",
      "\n",
      "Unexpected files:\n",
      "2015-04-29_08_3.geojson\n",
      "2015-02-26_22_2.geojson\n",
      "2015-04-29_07_1.geojson\n",
      "2015-06-29_19_2.geojson\n",
      "2015-10-30_11_3.geojson\n",
      "2015-10-30_11_2.geojson\n",
      "2015-04-29_07_2.geojson\n",
      "2014-12-29_08_3.geojson\n",
      "2014-12-29_08_1.geojson\n",
      "2015-06-29_19_3.geojson\n",
      "2015-10-30_10_1.geojson\n",
      "2015-02-26_21_1.geojson\n",
      "2014-10-29_23_1.geojson\n",
      "2015-02-26_22_3.geojson\n",
      "2014-12-29_08_2.geojson\n",
      "2014-10-29_23_2.geojson\n"
     ]
    }
   ],
   "source": [
    "missing = check_missing_and_unexpected_files('O:/Tran Xuan Thuy/iWAT/hysplit/processed_geojson')\n"
   ]
  }
 ],
 "metadata": {
  "kernelspec": {
   "display_name": "Python 3",
   "language": "python",
   "name": "python3"
  },
  "language_info": {
   "codemirror_mode": {
    "name": "ipython",
    "version": 3
   },
   "file_extension": ".py",
   "mimetype": "text/x-python",
   "name": "python",
   "nbconvert_exporter": "python",
   "pygments_lexer": "ipython3",
   "version": "3.12.5"
  }
 },
 "nbformat": 4,
 "nbformat_minor": 2
}
